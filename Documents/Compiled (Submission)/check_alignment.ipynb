{
 "cells": [
  {
   "cell_type": "code",
   "execution_count": 2,
   "metadata": {},
   "outputs": [],
   "source": [
    "import os\n",
    "import pandas as pd\n",
    "from Bio import PDB\n",
    "\n",
    "def extract_residue_info(pdb_file, chain_id='A'):\n",
    "    \"\"\"\n",
    "    Extracts residue information from a PDB file for a specific chain.\n",
    "    \n",
    "    Parameters:\n",
    "    - pdb_file (str): Path to the PDB file.\n",
    "    - chain_id (str): Chain ID to filter residues.\n",
    "    \n",
    "    Returns:\n",
    "    - List of dictionaries containing residue information.\n",
    "    \"\"\"\n",
    "    parser = PDB.PDBParser(QUIET=True)\n",
    "    structure = parser.get_structure('structure', pdb_file)\n",
    "    residues = []\n",
    "    \n",
    "    for model in structure:\n",
    "        for chain in model:\n",
    "            if chain.get_id() == chain_id:\n",
    "                for residue in chain:\n",
    "                    if PDB.is_aa(residue):\n",
    "                        residues.append({\n",
    "                            'residue_id': residue.get_id()[1],  # Extract the residue number\n",
    "                            'residue_name': residue.get_resname()  # Extract the residue name\n",
    "                        })\n",
    "    return residues\n",
    "\n",
    "def align_sequences(ref_seq, pdb_sequences):\n",
    "    \"\"\"\n",
    "    Aligns sequences from the reference and PDB sequences based on residue IDs.\n",
    "    \n",
    "    Parameters:\n",
    "    - ref_seq (list of dicts): Reference sequence residues.\n",
    "    - pdb_sequences (dict): Dictionary with PDB sequence titles and residues.\n",
    "    \n",
    "    Returns:\n",
    "    - Pandas DataFrame with aligned sequences.\n",
    "    \"\"\"\n",
    "    # Extract residue IDs from the reference sequence\n",
    "    ref_residue_ids = [residue['residue_id'] for residue in ref_seq]\n",
    "\n",
    "    # Initialize the DataFrame with the reference sequence\n",
    "    df = pd.DataFrame(ref_residue_ids, columns=['residue_id'])\n",
    "    df['ref_seq'] = [residue['residue_name'] for residue in ref_seq]\n",
    "\n",
    "    # Align each PDB sequence to the reference sequence\n",
    "    for pdb_title, pdb_seq in pdb_sequences.items():\n",
    "        pdb_dict = {res['residue_id']: res['residue_name'] for res in pdb_seq}\n",
    "        df[pdb_title] = df['residue_id'].apply(lambda x: pdb_dict.get(x, '-'))\n",
    "\n",
    "    return df\n",
    "\n",
    "def compare_seq(ref_seq, pdb_file_paths, protein_id):\n",
    "    \"\"\"\n",
    "    Compares and aligns sequences from reference and PDB files, and writes results to CSV.\n",
    "    \n",
    "    Parameters:\n",
    "    - ref_seq (str): Path to the reference PDB file.\n",
    "    - pdb_file_paths (list of str): List of PDB file paths to compare.\n",
    "    - protein_id (str): Identifier for the output directory and file.\n",
    "    \"\"\"\n",
    "    # Create the output directory if it doesn't exist\n",
    "    os.makedirs(f'{protein_id}_outputs', exist_ok=True)\n",
    "\n",
    "    # Extract residue information from the reference sequence\n",
    "    ref_residues = extract_residue_info(ref_seq, chain_id='A')\n",
    "\n",
    "    # Extract residue information from each PDB file\n",
    "    pdb_sequences = {}\n",
    "    for pdb_file in pdb_file_paths:\n",
    "        pdb_title = os.path.basename(pdb_file).replace('.pdb', '')  # Use the filename as the title\n",
    "        pdb_sequences[pdb_title] = extract_residue_info(pdb_file, chain_id='A')\n",
    "\n",
    "    # Align the sequences\n",
    "    df = align_sequences(ref_residues, pdb_sequences)\n",
    "\n",
    "    # Output the DataFrame to a CSV file\n",
    "    output_file = os.path.join(f'{protein_id}_outputs', f'{protein_id}_aligned_sequences1.csv')\n",
    "    df.to_csv(output_file, index=False)\n",
    "    print(f\"Aligned sequences have been written to {output_file}\")\n"
   ]
  },
  {
   "cell_type": "code",
   "execution_count": 3,
   "metadata": {},
   "outputs": [
    {
     "name": "stdout",
     "output_type": "stream",
     "text": [
      "Aligned sequences have been written to ASPG_outputs/ASPG_aligned_sequences1.csv\n"
     ]
    }
   ],
   "source": [
    "ref_seq = './ASPG_pdb/AF-G3V1Y8-F1-model_v4.pdb'\n",
    "pdb_file_paths = ['./ASPG_pdb/pdb1apy.pdb', './ASPG_pdb/pdb1apz.pdb', './ASPG_pdb/pdb1ayy.pdb', './ASPG_pdb/pdb1p4k.pdb', './ASPG_pdb/pdb1p4v.pdb', './ASPG_pdb/pdb2gac.pdb', './ASPG_pdb/pdb2gaw.pdb', './ASPG_pdb/pdb2gl9.pdb', './ASPG_pdb/pdb3ljq.pdb', './ASPG_pdb/pdb4r4y.pdb', './ASPG_pdb/pdb5v2i.pdb', './ASPG_pdb/pdb9gaa.pdb', './ASPG_pdb/pdb9gac.pdb', './ASPG_pdb/pdb9gaf.pdb']\n",
    "\n",
    "compare_seq(ref_seq, pdb_file_paths,'ASPG')"
   ]
  }
 ],
 "metadata": {
  "kernelspec": {
   "display_name": "Python 3",
   "language": "python",
   "name": "python3"
  },
  "language_info": {
   "codemirror_mode": {
    "name": "ipython",
    "version": 3
   },
   "file_extension": ".py",
   "mimetype": "text/x-python",
   "name": "python",
   "nbconvert_exporter": "python",
   "pygments_lexer": "ipython3",
   "version": "3.10.13"
  }
 },
 "nbformat": 4,
 "nbformat_minor": 2
}
